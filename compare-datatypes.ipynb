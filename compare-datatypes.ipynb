{
 "cells": [
  {
   "cell_type": "markdown",
   "metadata": {},
   "source": [
    "# Requirments\n",
    "- Python 3.11.9\n",
    "    - pyenv (https://github.com/pyenv/pyenv)\n",
    "- `pip install pyarrow`"
   ]
  },
  {
   "cell_type": "code",
   "execution_count": null,
   "metadata": {},
   "outputs": [],
   "source": [
    "import pandas as pd\n",
    "import numpy as np"
   ]
  },
  {
   "cell_type": "markdown",
   "metadata": {},
   "source": [
    "## Creating a fake dataset"
   ]
  },
  {
   "cell_type": "code",
   "execution_count": null,
   "metadata": {},
   "outputs": [],
   "source": [
    "def get_dataset(size):\n",
    "    # Create Fake Dataset\n",
    "    df = pd.DataFrame()\n",
    "    df[\"size\"] = np.random.choice([\"big\", \"medium\", \"small\"], size)\n",
    "    df[\"age\"] = np.random.randint(1, 50, size)\n",
    "    df[\"team\"] = np.random.choice([\"red\", \"blue\", \"yellow\", \"green\"], size)\n",
    "    df[\"win\"] = np.random.choice([\"yes\", \"no\"], size)\n",
    "    dates = pd.date_range(\"2020-01-01\", \"2022-12-31\")\n",
    "    df[\"date\"] = np.random.choice(dates, size)\n",
    "    df[\"prob\"] = np.random.uniform(0, 1, size)\n",
    "    return df\n",
    "\n",
    "\n",
    "def set_dtypes(df):\n",
    "    df[\"size\"] = df[\"size\"].astype(\"category\")\n",
    "    df[\"team\"] = df[\"team\"].astype(\"category\")\n",
    "    df[\"age\"] = df[\"age\"].astype(\"int16\")\n",
    "    df[\"win\"] = df[\"win\"].map({\"yes\": True, \"no\": False})\n",
    "    df[\"prob\"] = df[\"prob\"].astype(\"float32\")\n",
    "    return df"
   ]
  },
  {
   "cell_type": "markdown",
   "metadata": {},
   "source": [
    "## Testing out CSV storage format"
   ]
  },
  {
   "cell_type": "code",
   "execution_count": 8,
   "metadata": {},
   "outputs": [
    {
     "name": "stdout",
     "output_type": "stream",
     "text": [
      "Reading and writing CSV\n",
      "CPU times: user 8.94 s, sys: 439 ms, total: 9.38 s\n",
      "Wall time: 9.71 s\n",
      "CPU times: user 1.51 s, sys: 161 ms, total: 1.67 s\n",
      "Wall time: 1.73 s\n"
     ]
    }
   ],
   "source": [
    "print('Reading and writing CSV')\n",
    "df = get_dataset(5_000_000)\n",
    "df = set_dtypes(df)\n",
    "%time df.to_csv('test.csv')\n",
    "%time df_csv = pd.read_csv('test.csv')"
   ]
  },
  {
   "cell_type": "markdown",
   "metadata": {},
   "source": [
    "## Testing out Pickle Storage format"
   ]
  },
  {
   "cell_type": "code",
   "execution_count": 7,
   "metadata": {},
   "outputs": [
    {
     "name": "stdout",
     "output_type": "stream",
     "text": [
      "Reading and writing Pickle\n",
      "CPU times: user 1.81 ms, sys: 8.25 ms, total: 10.1 ms\n",
      "Wall time: 24.8 ms\n",
      "CPU times: user 817 μs, sys: 8.2 ms, total: 9.01 ms\n",
      "Wall time: 13.5 ms\n"
     ]
    }
   ],
   "source": [
    "print('Reading and writing Pickle')\n",
    "df = get_dataset(5_000_000)\n",
    "df = set_dtypes(df)\n",
    "%time df.to_pickle('test.pickle')\n",
    "%time df_pickle = pd.read_pickle('test.pickle')"
   ]
  },
  {
   "cell_type": "markdown",
   "metadata": {},
   "source": [
    "## Testing out Parquet storage format"
   ]
  },
  {
   "cell_type": "code",
   "execution_count": 6,
   "metadata": {},
   "outputs": [
    {
     "name": "stdout",
     "output_type": "stream",
     "text": [
      "Reading and writing Parquet\n",
      "CPU times: user 366 ms, sys: 18 ms, total: 384 ms\n",
      "Wall time: 361 ms\n",
      "CPU times: user 109 ms, sys: 36.6 ms, total: 146 ms\n",
      "Wall time: 52.2 ms\n"
     ]
    }
   ],
   "source": [
    "print('Reading and writing Parquet')\n",
    "df = get_dataset(5_000_000)\n",
    "df = set_dtypes(df)\n",
    "%time df.to_parquet('test.parquet')\n",
    "%time df_parquet = pd.read_parquet('test.parquet')"
   ]
  },
  {
   "cell_type": "markdown",
   "metadata": {},
   "source": [
    "## Testing out Feather File format"
   ]
  },
  {
   "cell_type": "code",
   "execution_count": 5,
   "metadata": {},
   "outputs": [
    {
     "name": "stdout",
     "output_type": "stream",
     "text": [
      "Reading and writing Feather\n",
      "CPU times: user 198 ms, sys: 29.6 ms, total: 228 ms\n",
      "Wall time: 137 ms\n",
      "CPU times: user 60.9 ms, sys: 36.6 ms, total: 97.5 ms\n",
      "Wall time: 48.4 ms\n"
     ]
    }
   ],
   "source": [
    "print('Reading and writing Feather')\n",
    "df = get_dataset(5_000_000)\n",
    "df = set_dtypes(df)\n",
    "%time df.to_feather('test.feather')\n",
    "%time df_feather = pd.read_feather('test.feather')"
   ]
  },
  {
   "cell_type": "code",
   "execution_count": 9,
   "metadata": {},
   "outputs": [
    {
     "name": "stdout",
     "output_type": "stream",
     "text": [
      ".\u001b[1;33mr\u001b[31mw\u001b[90m-\u001b[0m\u001b[33mr\u001b[1;90m--\u001b[0m\u001b[33mr\u001b[1;90m--\u001b[0m  \u001b[1;32m11k\u001b[0m \u001b[1;33maquawolf\u001b[0m \u001b[34m16 Aug 11:22\u001b[0m \u001b[1;90m-\u001b[0m\u001b[34mM\u001b[0m \u001b[38;2;166;227;161m backtesting.ipynb\u001b[0m\n",
      ".\u001b[1;33mr\u001b[31mw\u001b[90m-\u001b[0m\u001b[33mr\u001b[1;90m--\u001b[0m\u001b[33mr\u001b[1;90m--\u001b[0m \u001b[33m1.0M\u001b[0m \u001b[1;33maquawolf\u001b[0m \u001b[34m14 Aug 13:35\u001b[0m \u001b[1;90m--\u001b[0m \u001b[38;2;249;226;175m BTCUSDT_15m_20240216_20240816.csv\u001b[0m\n",
      ".\u001b[1;33mr\u001b[31mw\u001b[90m-\u001b[0m\u001b[33mr\u001b[1;90m--\u001b[0m\u001b[33mr\u001b[1;90m--\u001b[0m \u001b[1;32m4.7k\u001b[0m \u001b[1;33maquawolf\u001b[0m \u001b[34m16 Aug 11:53\u001b[0m \u001b[1;90m-\u001b[0m\u001b[32mN\u001b[0m \u001b[38;2;166;227;161m compare-datatypes.ipynb\u001b[0m\n",
      ".\u001b[1;33mr\u001b[31mw\u001b[90m-\u001b[0m\u001b[33mr\u001b[1;90m--\u001b[0m\u001b[33mr\u001b[1;90m--\u001b[0m \u001b[1;32m1.5k\u001b[0m \u001b[1;33maquawolf\u001b[0m \u001b[34m15 Aug 18:11\u001b[0m \u001b[1;90m--\u001b[0m \u001b[38;2;249;226;175m readme.md\u001b[0m\n",
      ".\u001b[1;33mr\u001b[31mw\u001b[90m-\u001b[0m\u001b[33mr\u001b[1;90m--\u001b[0m\u001b[33mr\u001b[1;90m--\u001b[0m \u001b[1;32m1.3k\u001b[0m \u001b[1;33maquawolf\u001b[0m \u001b[34m14 Aug 14:40\u001b[0m \u001b[1;90m--\u001b[0m \u001b[38;2;249;226;175m requirments.txt\u001b[0m\n",
      ".\u001b[1;33mr\u001b[31mw\u001b[90m-\u001b[0m\u001b[33mr\u001b[1;90m--\u001b[0m\u001b[33mr\u001b[1;90m--\u001b[0m \u001b[33m244M\u001b[0m \u001b[1;33maquawolf\u001b[0m \u001b[34m16 Aug 11:58\u001b[0m \u001b[1;90m-\u001b[0m\u001b[32mN\u001b[0m \u001b[38;2;249;226;175m test.csv\u001b[0m\n",
      ".\u001b[1;33mr\u001b[31mw\u001b[90m-\u001b[0m\u001b[33mr\u001b[1;90m--\u001b[0m\u001b[33mr\u001b[1;90m--\u001b[0m  \u001b[33m51M\u001b[0m \u001b[1;33maquawolf\u001b[0m \u001b[34m16 Aug 11:58\u001b[0m \u001b[1;90m-\u001b[0m\u001b[32mN\u001b[0m  test.feather\n",
      ".\u001b[1;33mr\u001b[31mw\u001b[90m-\u001b[0m\u001b[33mr\u001b[1;90m--\u001b[0m\u001b[33mr\u001b[1;90m--\u001b[0m  \u001b[33m37M\u001b[0m \u001b[1;33maquawolf\u001b[0m \u001b[34m16 Aug 11:58\u001b[0m \u001b[1;90m-\u001b[0m\u001b[32mN\u001b[0m  test.parquet\n",
      ".\u001b[1;33mr\u001b[31mw\u001b[90m-\u001b[0m\u001b[33mr\u001b[1;90m--\u001b[0m\u001b[33mr\u001b[1;90m--\u001b[0m  \u001b[33m85M\u001b[0m \u001b[1;33maquawolf\u001b[0m \u001b[34m16 Aug 11:58\u001b[0m \u001b[1;90m-\u001b[0m\u001b[32mN\u001b[0m  test.pickle\n"
     ]
    }
   ],
   "source": [
    "!ll"
   ]
  },
  {
   "cell_type": "code",
   "execution_count": 10,
   "metadata": {},
   "outputs": [
    {
     "name": "stdout",
     "output_type": "stream",
     "text": [
      "   17277 BTCUSDT_15m_20240216_20240816.csv\n"
     ]
    }
   ],
   "source": [
    "!wc -l BTCUSDT_15m_20240216_20240816.csv"
   ]
  }
 ],
 "metadata": {
  "kernelspec": {
   "display_name": ".venv",
   "language": "python",
   "name": "python3"
  },
  "language_info": {
   "codemirror_mode": {
    "name": "ipython",
    "version": 3
   },
   "file_extension": ".py",
   "mimetype": "text/x-python",
   "name": "python",
   "nbconvert_exporter": "python",
   "pygments_lexer": "ipython3",
   "version": "3.11.9"
  }
 },
 "nbformat": 4,
 "nbformat_minor": 2
}
