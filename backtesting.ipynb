{
 "cells": [
  {
   "cell_type": "markdown",
   "metadata": {},
   "source": [
    "# Requirments\n",
    "- Python 3.11.9\n",
    "    - pyenv (https://github.com/pyenv/pyenv)\n",
    "- uv (rust based - python package manger)\n",
    "    - _On macOS and Linux_\n",
    "        - `curl -LsSf https://astral.sh/uv/install.sh | sh`\n",
    "    - _windows_\n",
    "        - coming soon\n",
    "- Install the latest `backtesting.py` version \n",
    "    - `pip install git+https://github.com/kernc/backtesting.py.git`\n",
    "        - This includes fixes for bokeh breaking when you are trying to plot\n",
    "- TA Lib\n",
    "    - `brew install ta-lib` - need ta-lib c library to work with ta-lib python\n",
    "    - `pip install numpy==1.26.4` - need to ensure that we are using a numpy version lower then 2.0\n",
    "- Jupyter Noteboks deps\n",
    "    - `pip install ipykernel` for jupyter notebooks\n",
    "- Install additional deps \n",
    "    - `pip install pandas ccxt`\n",
    "    - Pandas dataframes\n",
    "    - CCXT connection to various crypto exchanges"
   ]
  },
  {
   "cell_type": "markdown",
   "metadata": {},
   "source": [
    "### Todos\n",
    "- [x] [DONE] Update candle stick retrival to ensure that we are getting the full range that we are requesting\n",
    "- [ ] Update strategy to also include stop loss, attempt to minimize risk as much as possible\n",
    "- [ ] ADD RR using ATR make sure that it doesn't cause a infinite loop\n",
    "- [ ] Figure out the best indicator for exiting a position with maximum upside\n",
    "- [ ] Get yearly data 15m for BTC on all time frames to see which one is best\n",
    "- [ ] Update candlestick data storage to parquet files\n",
    "- [ ] Dynamic position size"
   ]
  },
  {
   "cell_type": "code",
   "execution_count": null,
   "metadata": {},
   "outputs": [],
   "source": [
    "from backtesting import Backtest, Strategy\n",
    "from backtesting.lib import crossover\n",
    "import pandas as pd\n",
    "import talib\n",
    "import os\n",
    "import glob\n",
    "\n",
    "%load_ext autoreload\n",
    "%autoreload 2"
   ]
  },
  {
   "cell_type": "markdown",
   "metadata": {},
   "source": [
    "## Strategy EMACross\n",
    "\n",
    "EMA 20 X EMA 50"
   ]
  },
  {
   "cell_type": "code",
   "execution_count": null,
   "metadata": {},
   "outputs": [],
   "source": [
    "class ImprovedEMACrossStrategy(Strategy):\n",
    "    ema_fast = 10\n",
    "    ema_slow = 30\n",
    "    trade_size = 0.02\n",
    "    take_profit_pct = 0.04\n",
    "    stop_loss_pct = 0.02\n",
    "    atr_period = 14\n",
    "    rsi_period = 14\n",
    "    rsi_overbought = 70\n",
    "    rsi_oversold = 30\n",
    "    atr_multiplier = 2\n",
    "    trend_strength = 0.001\n",
    "\n",
    "    def init(self):\n",
    "        close = self.data.Close\n",
    "        high = self.data.High\n",
    "        low = self.data.Low\n",
    "\n",
    "        self.ema1 = self.I(talib.EMA, close, timeperiod=self.ema_fast)\n",
    "        self.ema2 = self.I(talib.EMA, close, timeperiod=self.ema_slow)\n",
    "        self.atr = self.I(talib.ATR, high, low, close, timeperiod=self.atr_period)\n",
    "        self.rsi = self.I(talib.RSI, close, timeperiod=self.rsi_period)\n",
    "        self.entry_price = 0\n",
    "\n",
    "    def next(self):\n",
    "        price = self.data.Close[-1]\n",
    "\n",
    "        # Dynamic take profit and stop loss based on ATR\n",
    "        take_profit = self.atr[-1] * self.atr_multiplier\n",
    "        stop_loss = self.atr[-1] * (self.atr_multiplier / 2)\n",
    "\n",
    "        size = max(1, int((self.trade_size * self.equity) // price))\n",
    "\n",
    "        # Check for take profit or stop loss\n",
    "        if self.position.size != 0:\n",
    "            pnl = price - self.entry_price\n",
    "            if self.position.size > 0:\n",
    "                if pnl >= take_profit or pnl <= -stop_loss:\n",
    "                    self.position.close()\n",
    "                    self.entry_price = 0\n",
    "            elif self.position.size < 0:\n",
    "                if pnl <= -take_profit or pnl >= stop_loss:\n",
    "                    self.position.close()\n",
    "                    self.entry_price = 0\n",
    "\n",
    "        # Check for strong trend\n",
    "        trend_strength = abs((self.ema1[-1] - self.ema2[-1]) / self.ema2[-1])\n",
    "\n",
    "        if crossover(self.ema1, self.ema2) and trend_strength > self.trend_strength:\n",
    "            if self.position.size < 0:\n",
    "                self.position.close()\n",
    "            if self.rsi[-1] < self.rsi_overbought:\n",
    "                self.buy(size=size)\n",
    "                self.entry_price = price\n",
    "        elif crossover(self.ema2, self.ema1) and trend_strength > self.trend_strength:\n",
    "            if self.position.size > 0:\n",
    "                self.position.close()\n",
    "            if self.rsi[-1] > self.rsi_oversold:\n",
    "                self.sell(size=size)\n",
    "                self.entry_price = price"
   ]
  },
  {
   "cell_type": "markdown",
   "metadata": {},
   "source": [
    "### Load the saved candle stick data frame\n",
    "_only run this cell when you want after you the have dynamically created the outputfile name_"
   ]
  },
  {
   "cell_type": "code",
   "execution_count": null,
   "metadata": {},
   "outputs": [],
   "source": [
    "def find_parquet_file(timeframe, exchange, symbol=\"BTCUSDT\"):\n",
    "    # Base directory to search in\n",
    "    base_directory = \"./saved_candlestick_data/\"\n",
    "\n",
    "    # Full directory path including the exchange\n",
    "    directory = os.path.join(base_directory, exchange)\n",
    "\n",
    "    # Create the pattern to match the filename based on the exchange\n",
    "    if exchange == \"binance\":\n",
    "        pattern = f\"{exchange}_{symbol}_{timeframe}_*.parquet\"\n",
    "    else:\n",
    "        pattern = f\"{symbol}_{timeframe}_*.parquet\"\n",
    "\n",
    "    # Search for files matching the pattern in the given directory\n",
    "    matching_files = glob.glob(os.path.join(directory, pattern))\n",
    "\n",
    "    if not matching_files:\n",
    "        return None\n",
    "    elif len(matching_files) > 1:\n",
    "        # If multiple files are found, return the most recent one\n",
    "        return max(matching_files, key=os.path.getctime)\n",
    "    else:\n",
    "        return matching_files[0]\n",
    "\n",
    "\n",
    "# Usage example:\n",
    "timeframe = \"15m\"\n",
    "exchange = \"binance\"  # or \"phemex\"\n",
    "symbol = \"BTCUSDT\"\n",
    "\n",
    "filename = find_parquet_file(timeframe, exchange, symbol)\n",
    "if filename:\n",
    "    print(f\"Found file: {filename}\")\n",
    "    df = pd.read_parquet(filename)\n",
    "    # Now you can work with your dataframe\n",
    "else:\n",
    "    print(f\"No file found for {symbol} with timeframe {timeframe} on {exchange}\")\n",
    "\n",
    "# Display the first few rows of the dataframe if it was loaded\n",
    "if \"df\" in locals():\n",
    "    print(df.head())\n",
    "else:\n",
    "    print(\"No dataframe to display\")"
   ]
  },
  {
   "cell_type": "markdown",
   "metadata": {},
   "source": [
    "### Run the strategy and plot it"
   ]
  },
  {
   "cell_type": "code",
   "execution_count": null,
   "metadata": {},
   "outputs": [],
   "source": [
    "# Create the Backtest instance\n",
    "bt = Backtest(\n",
    "    df,\n",
    "    ImprovedEMACrossStrategy,\n",
    "    cash=100000,\n",
    "    commission=0.002,\n",
    "    exclusive_orders=True,\n",
    ")\n",
    "\n",
    "# Run the backtest\n",
    "stats = bt.run()\n",
    "\n",
    "# Print the results\n",
    "print(stats)\n",
    "\n",
    "# Plot the results\n",
    "bt.plot()"
   ]
  },
  {
   "cell_type": "markdown",
   "metadata": {},
   "source": [
    "## Debugging"
   ]
  },
  {
   "cell_type": "code",
   "execution_count": null,
   "metadata": {},
   "outputs": [],
   "source": [
    "## check the size of the saved data\n",
    "!ll"
   ]
  }
 ],
 "metadata": {
  "kernelspec": {
   "display_name": ".venv",
   "language": "python",
   "name": "python3"
  },
  "language_info": {
   "codemirror_mode": {
    "name": "ipython",
    "version": 3
   },
   "file_extension": ".py",
   "mimetype": "text/x-python",
   "name": "python",
   "nbconvert_exporter": "python",
   "pygments_lexer": "ipython3",
   "version": "3.11.9"
  }
 },
 "nbformat": 4,
 "nbformat_minor": 2
}
