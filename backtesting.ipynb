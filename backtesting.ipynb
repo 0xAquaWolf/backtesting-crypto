{
 "cells": [
  {
   "cell_type": "markdown",
   "metadata": {},
   "source": [
    "# Requirments\n",
    "- Python 3.11.9\n",
    "- install the latest backtesting.py version `pip install git+https://github.com/kernc/backtesting.py.git`\n",
    "- install additional deps `pip install yfinance pandas ipykernal`\n",
    "    - you only need ipykernel if you are running a jupyter notebook\n",
    "- TA Lib\n",
    "    - `brew install ta-lib` - need ta-lib c library to work with ta-lib python\n",
    "    - `pip install numpy==1.26.4` - need to ensure that we are using a numpy version lower then 2.0"
   ]
  },
  {
   "cell_type": "markdown",
   "metadata": {},
   "source": [
    "## Strategy \n",
    "Buy when the 20 EMA Crosses over the 50 EMA\n",
    "Sell when the 20 EMA Crosses Under the 50 EMA"
   ]
  },
  {
   "cell_type": "code",
   "execution_count": 1,
   "metadata": {},
   "outputs": [],
   "source": [
    "import yfinance as yf\n",
    "from backtesting import Backtest, Strategy\n",
    "from backtesting.lib import crossover\n",
    "import pandas as pd\n",
    "# import numpy as np\n",
    "# print(np.__version__)\n",
    "import talib\n",
    "\n",
    "# import numpy as np\n",
    "# print(np.__version__)\n",
    "\n",
    "%load_ext autoreload\n",
    "%autoreload 2"
   ]
  },
  {
   "cell_type": "code",
   "execution_count": null,
   "metadata": {},
   "outputs": [],
   "source": [
    "class EMACrossStrategy(Strategy):\n",
    "    n1 = 20  # fast EMA period\n",
    "    n2 = 50  # slow EMA period\n",
    "\n",
    "    def init(self):\n",
    "        # Calculate EMAs\n",
    "        self.ema1 = self.I(\n",
    "            lambda x: pd.Series(x).ewm(span=self.n1, adjust=False).mean(),\n",
    "            self.data.Close,\n",
    "        )\n",
    "        self.ema2 = self.I(\n",
    "            lambda x: pd.Series(x).ewm(span=self.n2, adjust=False).mean(),\n",
    "            self.data.Close,\n",
    "        )\n",
    "\n",
    "    def next(self):\n",
    "        if crossover(self.ema1, self.ema2):\n",
    "            self.buy()\n",
    "        elif crossover(self.ema2, self.ema1):\n",
    "            self.sell()"
   ]
  },
  {
   "cell_type": "code",
   "execution_count": null,
   "metadata": {},
   "outputs": [],
   "source": [
    "# Download the Data\n",
    "start_date = \"2023-08-12\"\n",
    "end_date = \"2024-08-11\"\n",
    "data = yf.download(\"BTC-USD\", start=start_date, end=end_date)\n",
    "data"
   ]
  },
  {
   "cell_type": "code",
   "execution_count": null,
   "metadata": {},
   "outputs": [],
   "source": [
    "# Create and run the backtest\n",
    "bt = Backtest(data, EMACrossStrategy, cash=100000, commission=0.002)\n",
    "stats = bt.run()\n",
    "\n",
    "# Print results\n",
    "print(stats)\n",
    "# Plot the result\n",
    "bt.plot()"
   ]
  }
 ],
 "metadata": {
  "kernelspec": {
   "display_name": ".venv",
   "language": "python",
   "name": "python3"
  },
  "language_info": {
   "codemirror_mode": {
    "name": "ipython",
    "version": 3
   },
   "file_extension": ".py",
   "mimetype": "text/x-python",
   "name": "python",
   "nbconvert_exporter": "python",
   "pygments_lexer": "ipython3",
   "version": "3.11.9"
  }
 },
 "nbformat": 4,
 "nbformat_minor": 2
}
