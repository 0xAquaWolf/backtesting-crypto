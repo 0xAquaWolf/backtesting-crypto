{
 "cells": [
  {
   "cell_type": "markdown",
   "metadata": {},
   "source": [
    "# Requirments\n",
    "- Python 3.11.9\n",
    "    - pyenv (https://github.com/pyenv/pyenv)\n",
    "- uv (rust based - python package manger)\n",
    "    - _On macOS and Linux_\n",
    "        - `curl -LsSf https://astral.sh/uv/install.sh | sh`\n",
    "    - _windows_\n",
    "        - coming soon\n",
    "- Install the latest `backtesting.py` version \n",
    "    - `pip install git+https://github.com/kernc/backtesting.py.git`\n",
    "        - This includes fixes for bokeh breaking when you are trying to plot\n",
    "- TA Lib\n",
    "    - `brew install ta-lib` - need ta-lib c library to work with ta-lib python\n",
    "    - `pip install numpy==1.26.4` - need to ensure that we are using a numpy version lower then 2.0\n",
    "- Jupyter Noteboks deps\n",
    "    - `pip install ipykernel` for jupyter notebooks\n",
    "- Install additional deps \n",
    "    - `pip install pandas ccxt`\n",
    "    - Pandas dataframes\n",
    "    - CCXT connection to various crypto exchanges"
   ]
  },
  {
   "cell_type": "markdown",
   "metadata": {},
   "source": [
    "### Todos\n",
    "- [x] [DONE] Update candle stick retrival to ensure that we are getting the full range that we are requesting\n",
    "- [x] [DONE] Get yearly data 15m for BTC on all time frames to see which one is best\n",
    "- [x] [DONE] Update candlestick data storage to parquet files\n",
    "- [x] [DONE] Dynamic position size\n",
    "- [x] [DONE] Update strategy to also include stop loss, attempt to minimize risk as much as possible\n",
    "- [ ] ADD RR using ATR make sure that it doesn't cause a infinite loop\n",
    "- [ ] Figure out the best indicator for exiting a position with maximum upside"
   ]
  },
  {
   "cell_type": "code",
   "execution_count": 2,
   "metadata": {},
   "outputs": [
    {
     "name": "stdout",
     "output_type": "stream",
     "text": [
      "The autoreload extension is already loaded. To reload it, use:\n",
      "  %reload_ext autoreload\n"
     ]
    }
   ],
   "source": [
    "from backtesting import Backtest, Strategy\n",
    "from backtesting.lib import crossover\n",
    "import pandas as pd\n",
    "import talib\n",
    "import os\n",
    "import glob\n",
    "\n",
    "%load_ext autoreload\n",
    "%autoreload 2"
   ]
  },
  {
   "cell_type": "markdown",
   "metadata": {},
   "source": [
    "## Strategy EMACross\n",
    "\n",
    "EMA 20 X EMA 50"
   ]
  },
  {
   "cell_type": "code",
   "execution_count": 6,
   "metadata": {},
   "outputs": [],
   "source": [
    "class ImprovedEMACrossStrategy(Strategy):\n",
    "    ema_fast = 10\n",
    "    ema_slow = 30\n",
    "    trade_size = 0.02\n",
    "    take_profit_pct = 0.04\n",
    "    stop_loss_pct = 0.02\n",
    "    atr_period = 14\n",
    "    rsi_period = 14\n",
    "    rsi_overbought = 70\n",
    "    rsi_oversold = 30\n",
    "    atr_multiplier = 2\n",
    "    trend_strength = 0.001\n",
    "\n",
    "    def init(self):\n",
    "        close = self.data.Close\n",
    "        high = self.data.High\n",
    "        low = self.data.Low\n",
    "\n",
    "        self.ema1 = self.I(talib.EMA, close, timeperiod=self.ema_fast)\n",
    "        self.ema2 = self.I(talib.EMA, close, timeperiod=self.ema_slow)\n",
    "        self.atr = self.I(talib.ATR, high, low, close, timeperiod=self.atr_period)\n",
    "        self.rsi = self.I(talib.RSI, close, timeperiod=self.rsi_period)\n",
    "        self.entry_price = 0\n",
    "\n",
    "    def next(self):\n",
    "        price = self.data.Close[-1]\n",
    "\n",
    "        # Dynamic take profit and stop loss based on ATR\n",
    "        take_profit = self.atr[-1] * self.atr_multiplier\n",
    "        stop_loss = self.atr[-1] * (self.atr_multiplier / 2)\n",
    "\n",
    "        size = max(1, int((self.trade_size * self.equity) // price))\n",
    "\n",
    "        # Check for take profit or stop loss\n",
    "        if self.position.size != 0:\n",
    "            pnl = price - self.entry_price\n",
    "            if self.position.size > 0:\n",
    "                if pnl >= take_profit or pnl <= -stop_loss:\n",
    "                    self.position.close()\n",
    "                    self.entry_price = 0\n",
    "            elif self.position.size < 0:\n",
    "                if pnl <= -take_profit or pnl >= stop_loss:\n",
    "                    self.position.close()\n",
    "                    self.entry_price = 0\n",
    "\n",
    "        # Check for strong trend\n",
    "        trend_strength = abs((self.ema1[-1] - self.ema2[-1]) / self.ema2[-1])\n",
    "\n",
    "        if crossover(self.ema1, self.ema2) and trend_strength > self.trend_strength:\n",
    "            if self.position.size < 0:\n",
    "                self.position.close()\n",
    "            if self.rsi[-1] < self.rsi_overbought:\n",
    "                self.buy(size=size)\n",
    "                self.entry_price = price\n",
    "        elif crossover(self.ema2, self.ema1) and trend_strength > self.trend_strength:\n",
    "            if self.position.size > 0:\n",
    "                self.position.close()\n",
    "            if self.rsi[-1] > self.rsi_oversold:\n",
    "                self.sell(size=size)\n",
    "                self.entry_price = price"
   ]
  },
  {
   "cell_type": "markdown",
   "metadata": {},
   "source": [
    "### Load the saved candle stick data frame\n",
    "_only run this cell when you want after you the have dynamically created the outputfile name_"
   ]
  },
  {
   "cell_type": "code",
   "execution_count": 7,
   "metadata": {},
   "outputs": [
    {
     "name": "stdout",
     "output_type": "stream",
     "text": [
      "Found file: ./saved_candlestick_data/binance/parquet/binance_BTCUSDT_15m_20230818_20240817.parquet\n",
      "                         Open      High       Low     Close     Volume\n",
      "Timestamp                                                             \n",
      "2023-08-18 23:00:00  26071.99  26094.49  26051.91  26051.91  175.29393\n",
      "2023-08-18 23:15:00  26051.91  26062.82  26022.81  26028.47  504.91311\n",
      "2023-08-18 23:30:00  26028.47  26044.01  26006.01  26031.53  309.45135\n",
      "2023-08-18 23:45:00  26031.53  26059.91  26026.00  26054.00  154.77265\n",
      "2023-08-19 00:00:00  26054.00  26080.20  26048.67  26069.70  359.74408\n"
     ]
    }
   ],
   "source": [
    "def find_candlestick_file(\n",
    "    timeframe, exchange, symbol=\"BTCUSDT\", storage_format=\"parquet\"\n",
    "):\n",
    "    # Base directory to search in\n",
    "    base_directory = \"./saved_candlestick_data/\"\n",
    "    # Full directory path including the exchange and storage format\n",
    "    directory = os.path.join(base_directory, exchange, storage_format)\n",
    "\n",
    "    # Create the pattern to match the filename based on the exchange\n",
    "    if exchange == \"binance\":\n",
    "        pattern = f\"{exchange}_{symbol}_{timeframe}_*\"\n",
    "    else:  # for phemex\n",
    "        pattern = f\"{symbol}_{timeframe}_*\"\n",
    "\n",
    "    # Add the appropriate file extension\n",
    "    if storage_format == \"parquet\":\n",
    "        pattern += \".parquet\"\n",
    "    elif storage_format == \"csv\":\n",
    "        pattern += \".csv\"\n",
    "    else:\n",
    "        raise ValueError(\"Unsupported storage format. Use 'parquet' or 'csv'.\")\n",
    "\n",
    "    # Search for files matching the pattern in the given directory\n",
    "    matching_files = glob.glob(os.path.join(directory, pattern))\n",
    "\n",
    "    if not matching_files:\n",
    "        return None\n",
    "    elif len(matching_files) > 1:\n",
    "        # If multiple files are found, return the most recent one\n",
    "        return max(matching_files, key=os.path.getctime)\n",
    "    else:\n",
    "        return matching_files[0]\n",
    "\n",
    "\n",
    "# Usage example:\n",
    "timeframe = \"15m\"\n",
    "exchange = \"binance\"  # or \"phemex\"\n",
    "symbol = \"BTCUSDT\"\n",
    "storage_format = \"parquet\"  # or \"csv\"\n",
    "\n",
    "filename = find_candlestick_file(timeframe, exchange, symbol, storage_format)\n",
    "\n",
    "if filename:\n",
    "    print(f\"Found file: {filename}\")\n",
    "    if storage_format == \"parquet\":\n",
    "        df = pd.read_parquet(filename)\n",
    "    else:  # csv\n",
    "        df = pd.read_csv(filename)\n",
    "    # Now you can work with your dataframe\n",
    "    print(df.head())\n",
    "else:\n",
    "    print(\n",
    "        f\"No file found for {symbol} with timeframe {timeframe} on {exchange} in {storage_format} format\"\n",
    "    )"
   ]
  },
  {
   "cell_type": "markdown",
   "metadata": {},
   "source": [
    "### Run the strategy and plot it"
   ]
  },
  {
   "cell_type": "code",
   "execution_count": 8,
   "metadata": {},
   "outputs": [
    {
     "name": "stdout",
     "output_type": "stream",
     "text": [
      "Start                     2023-08-18 23:00:00\n",
      "End                       2024-08-17 22:45:00\n",
      "Duration                    364 days 23:45:00\n",
      "Exposure Time [%]                    0.650685\n",
      "Equity Final [$]                 101794.19408\n",
      "Equity Peak [$]                  103233.88644\n",
      "Return [%]                           1.794194\n",
      "Buy & Hold Return [%]              127.704994\n",
      "Return (Ann.) [%]                    1.789248\n",
      "Volatility (Ann.) [%]                2.883298\n",
      "Sharpe Ratio                         0.620556\n",
      "Sortino Ratio                        1.127792\n",
      "Calmar Ratio                         0.722458\n",
      "Max. Drawdown [%]                   -2.476614\n",
      "Avg. Drawdown [%]                    -1.31743\n",
      "Max. Drawdown Duration      157 days 09:00:00\n",
      "Avg. Drawdown Duration       58 days 02:54:00\n",
      "# Trades                                   19\n",
      "Win Rate [%]                        47.368421\n",
      "Best Trade [%]                       2.840427\n",
      "Worst Trade [%]                     -1.518999\n",
      "Avg. Trade [%]                       0.097697\n",
      "Max. Trade Duration           0 days 11:00:00\n",
      "Avg. Trade Duration           0 days 02:45:00\n",
      "Profit Factor                        1.196416\n",
      "Expectancy [%]                       0.105961\n",
      "SQN                                  0.500167\n",
      "Kelly Criterion                        0.1097\n",
      "_strategy                 ImprovedEMACross...\n",
      "_equity_curve                             ...\n",
      "_trades                       Size  EntryB...\n",
      "dtype: object\n"
     ]
    },
    {
     "name": "stderr",
     "output_type": "stream",
     "text": [
      "/Users/aquawolf/Projects/live-stream-projects/algo-trading/backtesting-crypto/.venv/lib/python3.11/site-packages/backtesting/_plotting.py:122: UserWarning: Data contains too many candlesticks to plot; downsampling to '1H'. See `Backtest.plot(resample=...)`\n",
      "  warnings.warn(f\"Data contains too many candlesticks to plot; downsampling to {freq!r}. \"\n",
      "/Users/aquawolf/Projects/live-stream-projects/algo-trading/backtesting-crypto/.venv/lib/python3.11/site-packages/backtesting/_plotting.py:126: FutureWarning: 'H' is deprecated and will be removed in a future version, please use 'h' instead.\n",
      "  df = df.resample(freq, label='right').agg(OHLCV_AGG).dropna()\n",
      "/Users/aquawolf/Projects/live-stream-projects/algo-trading/backtesting-crypto/.venv/lib/python3.11/site-packages/backtesting/_plotting.py:128: FutureWarning: 'H' is deprecated and will be removed in a future version, please use 'h' instead.\n",
      "  indicators = [_Indicator(i.df.resample(freq, label='right').mean()\n",
      "/Users/aquawolf/Projects/live-stream-projects/algo-trading/backtesting-crypto/.venv/lib/python3.11/site-packages/backtesting/_plotting.py:128: FutureWarning: 'H' is deprecated and will be removed in a future version, please use 'h' instead.\n",
      "  indicators = [_Indicator(i.df.resample(freq, label='right').mean()\n",
      "/Users/aquawolf/Projects/live-stream-projects/algo-trading/backtesting-crypto/.venv/lib/python3.11/site-packages/backtesting/_plotting.py:128: FutureWarning: 'H' is deprecated and will be removed in a future version, please use 'h' instead.\n",
      "  indicators = [_Indicator(i.df.resample(freq, label='right').mean()\n",
      "/Users/aquawolf/Projects/live-stream-projects/algo-trading/backtesting-crypto/.venv/lib/python3.11/site-packages/backtesting/_plotting.py:128: FutureWarning: 'H' is deprecated and will be removed in a future version, please use 'h' instead.\n",
      "  indicators = [_Indicator(i.df.resample(freq, label='right').mean()\n",
      "/Users/aquawolf/Projects/live-stream-projects/algo-trading/backtesting-crypto/.venv/lib/python3.11/site-packages/backtesting/_plotting.py:136: FutureWarning: 'H' is deprecated and will be removed in a future version, please use 'h' instead.\n",
      "  equity_data = equity_data.resample(freq, label='right').agg(_EQUITY_AGG).dropna(how='all')\n",
      "/Users/aquawolf/Projects/live-stream-projects/algo-trading/backtesting-crypto/.venv/lib/python3.11/site-packages/backtesting/_plotting.py:153: FutureWarning: 'H' is deprecated and will be removed in a future version, please use 'h' instead.\n",
      "  trades = trades.assign(count=1).resample(freq, on='ExitTime', label='right').agg(dict(\n",
      "/Users/aquawolf/Projects/live-stream-projects/algo-trading/backtesting-crypto/.venv/lib/python3.11/site-packages/backtesting/_plotting.py:147: FutureWarning: Series.view is deprecated and will be removed in a future version. Use ``astype`` as an alternative to change the dtype.\n",
      "  mean_time = int(bars.loc[s.index].view(int).mean())\n"
     ]
    },
    {
     "data": {
      "text/html": [
       "<div style=\"display: table;\"><div style=\"display: table-row;\"><div style=\"display: table-cell;\"><b title=\"bokeh.models.plots.GridPlot\">GridPlot</b>(</div><div style=\"display: table-cell;\">id&nbsp;=&nbsp;'p1435', <span id=\"p1469\" style=\"cursor: pointer;\">&hellip;)</span></div></div><div class=\"p1468\" style=\"display: none;\"><div style=\"display: table-cell;\"></div><div style=\"display: table-cell;\">align&nbsp;=&nbsp;'auto',</div></div><div class=\"p1468\" style=\"display: none;\"><div style=\"display: table-cell;\"></div><div style=\"display: table-cell;\">aspect_ratio&nbsp;=&nbsp;None,</div></div><div class=\"p1468\" style=\"display: none;\"><div style=\"display: table-cell;\"></div><div style=\"display: table-cell;\">children&nbsp;=&nbsp;[(figure(id='p1048', ...), 0, 0), (figure(id='p1147', ...), 1, 0), (figure(id='p1002', ...), 2, 0), (figure(id='p1204', ...), 3, 0), (figure(id='p1321', ...), 4, 0), (figure(id='p1368', ...), 5, 0)],</div></div><div class=\"p1468\" style=\"display: none;\"><div style=\"display: table-cell;\"></div><div style=\"display: table-cell;\">cols&nbsp;=&nbsp;None,</div></div><div class=\"p1468\" style=\"display: none;\"><div style=\"display: table-cell;\"></div><div style=\"display: table-cell;\">context_menu&nbsp;=&nbsp;None,</div></div><div class=\"p1468\" style=\"display: none;\"><div style=\"display: table-cell;\"></div><div style=\"display: table-cell;\">css_classes&nbsp;=&nbsp;[],</div></div><div class=\"p1468\" style=\"display: none;\"><div style=\"display: table-cell;\"></div><div style=\"display: table-cell;\">css_variables&nbsp;=&nbsp;{},</div></div><div class=\"p1468\" style=\"display: none;\"><div style=\"display: table-cell;\"></div><div style=\"display: table-cell;\">disabled&nbsp;=&nbsp;False,</div></div><div class=\"p1468\" style=\"display: none;\"><div style=\"display: table-cell;\"></div><div style=\"display: table-cell;\">elements&nbsp;=&nbsp;[],</div></div><div class=\"p1468\" style=\"display: none;\"><div style=\"display: table-cell;\"></div><div style=\"display: table-cell;\">flow_mode&nbsp;=&nbsp;'block',</div></div><div class=\"p1468\" style=\"display: none;\"><div style=\"display: table-cell;\"></div><div style=\"display: table-cell;\">height&nbsp;=&nbsp;None,</div></div><div class=\"p1468\" style=\"display: none;\"><div style=\"display: table-cell;\"></div><div style=\"display: table-cell;\">height_policy&nbsp;=&nbsp;'auto',</div></div><div class=\"p1468\" style=\"display: none;\"><div style=\"display: table-cell;\"></div><div style=\"display: table-cell;\">js_event_callbacks&nbsp;=&nbsp;{},</div></div><div class=\"p1468\" style=\"display: none;\"><div style=\"display: table-cell;\"></div><div style=\"display: table-cell;\">js_property_callbacks&nbsp;=&nbsp;{},</div></div><div class=\"p1468\" style=\"display: none;\"><div style=\"display: table-cell;\"></div><div style=\"display: table-cell;\">margin&nbsp;=&nbsp;None,</div></div><div class=\"p1468\" style=\"display: none;\"><div style=\"display: table-cell;\"></div><div style=\"display: table-cell;\">max_height&nbsp;=&nbsp;None,</div></div><div class=\"p1468\" style=\"display: none;\"><div style=\"display: table-cell;\"></div><div style=\"display: table-cell;\">max_width&nbsp;=&nbsp;None,</div></div><div class=\"p1468\" style=\"display: none;\"><div style=\"display: table-cell;\"></div><div style=\"display: table-cell;\">min_height&nbsp;=&nbsp;None,</div></div><div class=\"p1468\" style=\"display: none;\"><div style=\"display: table-cell;\"></div><div style=\"display: table-cell;\">min_width&nbsp;=&nbsp;None,</div></div><div class=\"p1468\" style=\"display: none;\"><div style=\"display: table-cell;\"></div><div style=\"display: table-cell;\">name&nbsp;=&nbsp;None,</div></div><div class=\"p1468\" style=\"display: none;\"><div style=\"display: table-cell;\"></div><div style=\"display: table-cell;\">resizable&nbsp;=&nbsp;False,</div></div><div class=\"p1468\" style=\"display: none;\"><div style=\"display: table-cell;\"></div><div style=\"display: table-cell;\">rows&nbsp;=&nbsp;None,</div></div><div class=\"p1468\" style=\"display: none;\"><div style=\"display: table-cell;\"></div><div style=\"display: table-cell;\">sizing_mode&nbsp;=&nbsp;'stretch_width',</div></div><div class=\"p1468\" style=\"display: none;\"><div style=\"display: table-cell;\"></div><div style=\"display: table-cell;\">spacing&nbsp;=&nbsp;0,</div></div><div class=\"p1468\" style=\"display: none;\"><div style=\"display: table-cell;\"></div><div style=\"display: table-cell;\">styles&nbsp;=&nbsp;{},</div></div><div class=\"p1468\" style=\"display: none;\"><div style=\"display: table-cell;\"></div><div style=\"display: table-cell;\">stylesheets&nbsp;=&nbsp;[],</div></div><div class=\"p1468\" style=\"display: none;\"><div style=\"display: table-cell;\"></div><div style=\"display: table-cell;\">subscribed_events&nbsp;=&nbsp;PropertyValueSet(),</div></div><div class=\"p1468\" style=\"display: none;\"><div style=\"display: table-cell;\"></div><div style=\"display: table-cell;\">syncable&nbsp;=&nbsp;True,</div></div><div class=\"p1468\" style=\"display: none;\"><div style=\"display: table-cell;\"></div><div style=\"display: table-cell;\">tags&nbsp;=&nbsp;[],</div></div><div class=\"p1468\" style=\"display: none;\"><div style=\"display: table-cell;\"></div><div style=\"display: table-cell;\">toolbar&nbsp;=&nbsp;Toolbar(id='p1434', ...),</div></div><div class=\"p1468\" style=\"display: none;\"><div style=\"display: table-cell;\"></div><div style=\"display: table-cell;\">toolbar_location&nbsp;=&nbsp;'right',</div></div><div class=\"p1468\" style=\"display: none;\"><div style=\"display: table-cell;\"></div><div style=\"display: table-cell;\">visible&nbsp;=&nbsp;True,</div></div><div class=\"p1468\" style=\"display: none;\"><div style=\"display: table-cell;\"></div><div style=\"display: table-cell;\">width&nbsp;=&nbsp;None,</div></div><div class=\"p1468\" style=\"display: none;\"><div style=\"display: table-cell;\"></div><div style=\"display: table-cell;\">width_policy&nbsp;=&nbsp;'auto')</div></div></div>\n",
       "<script>\n",
       "(function() {\n",
       "  let expanded = false;\n",
       "  const ellipsis = document.getElementById(\"p1469\");\n",
       "  ellipsis.addEventListener(\"click\", function() {\n",
       "    const rows = document.getElementsByClassName(\"p1468\");\n",
       "    for (let i = 0; i < rows.length; i++) {\n",
       "      const el = rows[i];\n",
       "      el.style.display = expanded ? \"none\" : \"table-row\";\n",
       "    }\n",
       "    ellipsis.innerHTML = expanded ? \"&hellip;)\" : \"&lsaquo;&lsaquo;&lsaquo;\";\n",
       "    expanded = !expanded;\n",
       "  });\n",
       "})();\n",
       "</script>\n"
      ],
      "text/plain": [
       "GridPlot(id='p1435', ...)"
      ]
     },
     "execution_count": 8,
     "metadata": {},
     "output_type": "execute_result"
    }
   ],
   "source": [
    "# Create the Backtest instance\n",
    "bt = Backtest(\n",
    "    df,\n",
    "    ImprovedEMACrossStrategy,\n",
    "    cash=100000,\n",
    "    commission=0.002,\n",
    "    exclusive_orders=True,\n",
    ")\n",
    "\n",
    "# Run the backtest\n",
    "stats = bt.run()\n",
    "\n",
    "# Print the results\n",
    "print(stats)\n",
    "\n",
    "# Plot the results\n",
    "bt.plot()"
   ]
  },
  {
   "cell_type": "markdown",
   "metadata": {},
   "source": [
    "## Debugging"
   ]
  },
  {
   "cell_type": "code",
   "execution_count": null,
   "metadata": {},
   "outputs": [],
   "source": [
    "## check the size of the saved data\n",
    "!ll"
   ]
  }
 ],
 "metadata": {
  "kernelspec": {
   "display_name": ".venv",
   "language": "python",
   "name": "python3"
  },
  "language_info": {
   "codemirror_mode": {
    "name": "ipython",
    "version": 3
   },
   "file_extension": ".py",
   "mimetype": "text/x-python",
   "name": "python",
   "nbconvert_exporter": "python",
   "pygments_lexer": "ipython3",
   "version": "3.11.9"
  }
 },
 "nbformat": 4,
 "nbformat_minor": 2
}
