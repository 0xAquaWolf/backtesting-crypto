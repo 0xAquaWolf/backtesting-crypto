{
 "cells": [
  {
   "cell_type": "markdown",
   "metadata": {},
   "source": [
    "# Requirments\n",
    "- Python 3.11.9\n",
    "    - pyenv (https://github.com/pyenv/pyenv)\n",
    "- uv (rust based - python package manger)\n",
    "    - _On macOS and Linux_\n",
    "        - `curl -LsSf https://astral.sh/uv/install.sh | sh`\n",
    "    - _windows_\n",
    "        - coming soon\n",
    "- Install the latest `backtesting.py` version \n",
    "    - `pip install git+https://github.com/kernc/backtesting.py.git`\n",
    "        - This includes fixes for bokeh breaking when you are trying to plot\n",
    "- TA Lib\n",
    "    - `brew install ta-lib` - need ta-lib c library to work with ta-lib python\n",
    "    - `pip install numpy==1.26.4` - need to ensure that we are using a numpy version lower then 2.0\n",
    "- Jupyter Noteboks deps\n",
    "    - `pip install ipykernel` for jupyter notebooks\n",
    "- Install additional deps \n",
    "    - `pip install pandas ccxt`\n",
    "    - Pandas dataframes\n",
    "    - CCXT connection to various crypto exchanges"
   ]
  },
  {
   "cell_type": "markdown",
   "metadata": {},
   "source": [
    "### Todos\n",
    "- [x] - Update candle stick retrival to ensure that we are getting the full range that we are requesting\n",
    "- [ ] - Update strategy to also include stop loss, attempt to minimize risk as much as possible\n",
    "- [ ] - ADD RR using ATR make sure that it doesn't cause a infinite loop\n",
    "- [ ] - Figure out the best indicator for exiting a position with maximum upside\n",
    "- [ ] - get yearly data for BTC on all time frames to see which one is best\n",
    "- [ ] - Update candlestick data storage to parquet files\n"
   ]
  },
  {
   "cell_type": "code",
   "execution_count": 1,
   "metadata": {},
   "outputs": [],
   "source": [
    "import yfinance as yf\n",
    "from backtesting import Backtest, Strategy\n",
    "from backtesting.lib import crossover\n",
    "import pandas as pd\n",
    "# import numpy as np\n",
    "import talib\n",
    "import ccxt\n",
    "import datetime\n",
    "import time\n",
    "# print(np.__version__)\n",
    "\n",
    "%load_ext autoreload\n",
    "%autoreload 2"
   ]
  },
  {
   "cell_type": "markdown",
   "metadata": {},
   "source": [
    "## Strategy EMACross\n",
    "\n",
    "EMA 20 - EMA 50"
   ]
  },
  {
   "cell_type": "code",
   "execution_count": null,
   "metadata": {},
   "outputs": [],
   "source": [
    "class EMACrossStrategy(Strategy):\n",
    "    ema_fast = 20\n",
    "    ema_slow = 50\n",
    "    trade_size = 0.05  # Use % of available equity for each trade\n",
    "    take_profit_pct = 0.02  # 1% take profit\n",
    "\n",
    "    def init(self):\n",
    "        close = self.data.Close\n",
    "        self.ema1 = self.I(talib.EMA, close, timeperiod=self.ema_fast)\n",
    "        self.ema2 = self.I(talib.EMA, close, timeperiod=self.ema_slow)\n",
    "        self.entry_price = 0\n",
    "\n",
    "    def next(self):\n",
    "        price = self.data.Close[-1]\n",
    "        print(\n",
    "            f\"Current index: {self.data.index[-1]}, Close: {price}, EMA{self.ema_fast}: {self.ema1[-1]}, EMA{self.ema_slow}: {self.ema2[-1]}\"\n",
    "        )\n",
    "        print(f\"Current position size: {self.position.size}\")\n",
    "        print(f\"Current equity: {self.equity}\")\n",
    "        size = max(1, int((self.trade_size * self.equity) // price))\n",
    "        print(f\"Calculated trade size: {size}\")\n",
    "\n",
    "        # Check for take profit\n",
    "        if self.position.size != 0:\n",
    "            pnl_pct = (price - self.entry_price) / self.entry_price\n",
    "            if (self.position.size > 0 and pnl_pct >= self.take_profit_pct) or (\n",
    "                self.position.size < 0 and pnl_pct <= -self.take_profit_pct\n",
    "            ):\n",
    "                print(\n",
    "                    f\"Take profit triggered at {self.data.index[-1]}, closing position\"\n",
    "                )\n",
    "                self.position.close()\n",
    "                self.entry_price = 0\n",
    "\n",
    "        if crossover(self.ema1, self.ema2):\n",
    "            if self.position.size < 0:\n",
    "                self.position.close()\n",
    "            print(\n",
    "                f\"Buy signal at {self.data.index[-1]}, attempting to buy {size} units\"\n",
    "            )\n",
    "            self.buy(size=size)\n",
    "            self.entry_price = price\n",
    "        elif crossover(self.ema2, self.ema1):\n",
    "            if self.position.size > 0:\n",
    "                self.position.close()\n",
    "            print(\n",
    "                f\"Sell signal at {self.data.index[-1]}, attempting to sell {size} units\"\n",
    "            )\n",
    "            self.sell(size=size)\n",
    "            self.entry_price = price\n",
    "\n",
    "        print(f\"Position after signal check: {self.position.size}\")"
   ]
  },
  {
   "cell_type": "markdown",
   "metadata": {},
   "source": [
    "## Retrieve candle stick data \n",
    "- requesting data from phemex upto a certain point with chunking to prevent rate liming"
   ]
  },
  {
   "cell_type": "code",
   "execution_count": null,
   "metadata": {},
   "outputs": [],
   "source": [
    "# Initialize the exchange - Using Phemex\n",
    "exchange = ccxt.phemex({\"enableRateLimit\": True})\n",
    "\n",
    "# Define the symbols\n",
    "symbol = \"BTCUSDT\"  # This is the correct symbol for Phemex USDT-margined perpetual\n",
    "timeframe = \"15m\"\n",
    "\n",
    "# Calculate start and end times\n",
    "end_time = datetime.datetime.now()\n",
    "start_time = end_time - datetime.timedelta(days=180)  # 6 months ago\n",
    "### TODO: create a formula to figure out how many candle i would be expecting back depending on the timeframe and the start_time\n",
    "\n",
    "\n",
    "# Function to fetch data in chunks\n",
    "def fetch_ohlcv_data(start_time, end_time):\n",
    "    all_candles = []\n",
    "    current_time = start_time\n",
    "    while current_time < end_time:\n",
    "        try:\n",
    "            print(f\"Fetching data from {current_time}\")\n",
    "            candles = exchange.fetch_ohlcv(\n",
    "                symbol,\n",
    "                timeframe,\n",
    "                since=int(current_time.timestamp() * 1000),\n",
    "                limit=1000,  # Phemex allows up to 1000 candles per request\n",
    "            )\n",
    "            if not candles:\n",
    "                break\n",
    "            all_candles.extend(candles)\n",
    "\n",
    "            # Update current_time to the last candle's time + 1 timeframe\n",
    "            last_candle_time = datetime.datetime.fromtimestamp(candles[-1][0] / 1000)\n",
    "            if timeframe == \"15m\":\n",
    "                current_time = last_candle_time + datetime.timedelta(minutes=15)\n",
    "            elif timeframe == \"1h\":\n",
    "                current_time = last_candle_time + datetime.timedelta(hours=1)\n",
    "            elif timeframe == \"4h\":\n",
    "                current_time = last_candle_time + datetime.timedelta(hours=4)\n",
    "            elif timeframe == \"1d\":\n",
    "                current_time = last_candle_time + datetime.timedelta(days=1)\n",
    "            else:\n",
    "                raise ValueError(f\"Unsupported timeframe: {timeframe}\")\n",
    "\n",
    "            print(f\"Fetched {len(candles)} candles. Next fetch from {current_time}\")\n",
    "\n",
    "            # Sleep to respect rate limits\n",
    "            time.sleep(exchange.rateLimit / 1000)  # rateLimit is in milliseconds\n",
    "        except ccxt.NetworkError as e:\n",
    "            print(f\"Network error occurred: {str(e)}. Retrying in 10 seconds...\")\n",
    "            time.sleep(10)\n",
    "        except ccxt.ExchangeError as e:\n",
    "            print(f\"Exchange error occurred: {str(e)}. Stopping.\")\n",
    "            break\n",
    "\n",
    "    return all_candles\n",
    "\n",
    "\n",
    "# Fetch the data\n",
    "candles = fetch_ohlcv_data(start_time, end_time)\n",
    "\n",
    "# Create DataFrame\n",
    "df = pd.DataFrame(\n",
    "    candles, columns=[\"Timestamp\", \"Open\", \"High\", \"Low\", \"Close\", \"Volume\"]\n",
    ")\n",
    "\n",
    "print(df)\n",
    "\n",
    "# Set timestamp as index\n",
    "df[\"Timestamp\"] = pd.to_datetime(df[\"Timestamp\"], unit=\"ms\")\n",
    "df.set_index(\"Timestamp\", inplace=True)\n",
    "\n",
    "df  # Return the dataframe for display in Jupyter"
   ]
  },
  {
   "cell_type": "markdown",
   "metadata": {},
   "source": [
    "### save the candles dataframe to a csv on disk"
   ]
  },
  {
   "cell_type": "code",
   "execution_count": null,
   "metadata": {},
   "outputs": [],
   "source": [
    "### Save last dataframe\n",
    "output_filename = \"BTCUSDT_15m_20240216_20240816.csv\"\n",
    "df.to_csv(output_filename)"
   ]
  },
  {
   "cell_type": "markdown",
   "metadata": {},
   "source": [
    "### Load the saved candle stick data frame"
   ]
  },
  {
   "cell_type": "code",
   "execution_count": null,
   "metadata": {},
   "outputs": [],
   "source": [
    "output_filename = \"BTCUSDT_15m_20240216_20240816.csv\"\n",
    "df = pd.read_csv(output_filename)\n",
    "\n",
    "# Covert the 'Timestamp' column to datetime\n",
    "df[\"Timestamp\"] = pd.to_datetime(df[\"Timestamp\"])\n",
    "\n",
    "df.set_index(\"Timestamp\", inplace=True)\n",
    "\n",
    "df.sort_index(inplace=True)\n",
    "\n",
    "for col in df.columns:\n",
    "    df[col] = pd.to_numeric(df[col], errors=\"coerce\")\n",
    "\n",
    "df.dropna(inplace=True)\n",
    "df"
   ]
  },
  {
   "cell_type": "markdown",
   "metadata": {},
   "source": [
    "### Run the strategy and plot it"
   ]
  },
  {
   "cell_type": "code",
   "execution_count": null,
   "metadata": {},
   "outputs": [],
   "source": [
    "# Create the Backtest instance\n",
    "bt = Backtest(\n",
    "    df, EMACrossStrategy, cash=100000, commission=0.002, exclusive_orders=True\n",
    ")\n",
    "\n",
    "# Run the backtest\n",
    "stats = bt.run()\n",
    "\n",
    "# Print the results\n",
    "print(stats)\n",
    "\n",
    "# Plot the results\n",
    "bt.plot()"
   ]
  }
 ],
 "metadata": {
  "kernelspec": {
   "display_name": ".venv",
   "language": "python",
   "name": "python3"
  },
  "language_info": {
   "codemirror_mode": {
    "name": "ipython",
    "version": 3
   },
   "file_extension": ".py",
   "mimetype": "text/x-python",
   "name": "python",
   "nbconvert_exporter": "python",
   "pygments_lexer": "ipython3",
   "version": "3.11.9"
  }
 },
 "nbformat": 4,
 "nbformat_minor": 2
}
